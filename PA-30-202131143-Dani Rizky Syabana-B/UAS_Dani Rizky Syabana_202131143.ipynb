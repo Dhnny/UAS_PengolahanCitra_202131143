{
 "cells": [
  {
   "cell_type": "code",
   "execution_count": 5,
   "id": "f9856cef",
   "metadata": {},
   "outputs": [],
   "source": [
    "import cv2\n",
    "import pytesseract"
   ]
  },
  {
   "cell_type": "code",
   "execution_count": 6,
   "id": "be79db98",
   "metadata": {},
   "outputs": [
    {
     "name": "stdout",
     "output_type": "stream",
     "text": [
      "D 54 310 131 435 0\n",
      "A 133 308 220 427 0\n",
      "N 225 312 295 428 0\n",
      "I 310 311 320 424 0\n",
      "R 394 314 476 435 0\n",
      "I 502 311 509 420 0\n",
      "Z 516 317 593 418 0\n",
      "K 610 310 661 419 0\n",
      "Y 685 311 740 425 0\n",
      "S 815 325 858 431 0\n",
      "Y 875 321 921 424 0\n",
      "A 927 325 996 420 0\n",
      "B 1001 337 1052 422 0\n",
      "A 1057 334 1125 422 0\n",
      "N 1130 337 1179 419 0\n",
      "A 1183 334 1240 417 0\n",
      "~ 0 0 1280 122 0\n",
      "\n"
     ]
    },
    {
     "data": {
      "text/plain": [
       "-1"
      ]
     },
     "execution_count": 6,
     "metadata": {},
     "output_type": "execute_result"
    }
   ],
   "source": [
    "pytesseract.pytesseract.tesseract_cmd = 'C:\\\\Program Files\\Tesseract-OCR\\\\tesseract.exe'\n",
    "img = cv2.imread('Dani2.jpeg')\n",
    "img = cv2.cvtColor(img,cv2.COLOR_BGR2RGB)\n",
    "print(pytesseract.image_to_boxes(img))\n",
    "\n",
    "cv2.imshow('Result',img)\n",
    "cv2.waitKey(0)"
   ]
  },
  {
   "cell_type": "code",
   "execution_count": 7,
   "id": "019ee209",
   "metadata": {},
   "outputs": [
    {
     "name": "stdout",
     "output_type": "stream",
     "text": [
      "D 54 310 131 435 0\n",
      "['D', '54', '310', '131', '435', '0']\n",
      "A 133 308 220 427 0\n",
      "['A', '133', '308', '220', '427', '0']\n",
      "N 225 312 295 428 0\n",
      "['N', '225', '312', '295', '428', '0']\n",
      "I 310 311 320 424 0\n",
      "['I', '310', '311', '320', '424', '0']\n",
      "R 394 314 476 435 0\n",
      "['R', '394', '314', '476', '435', '0']\n",
      "I 502 311 509 420 0\n",
      "['I', '502', '311', '509', '420', '0']\n",
      "Z 516 317 593 418 0\n",
      "['Z', '516', '317', '593', '418', '0']\n",
      "K 610 310 661 419 0\n",
      "['K', '610', '310', '661', '419', '0']\n",
      "Y 685 311 740 425 0\n",
      "['Y', '685', '311', '740', '425', '0']\n",
      "S 815 325 858 431 0\n",
      "['S', '815', '325', '858', '431', '0']\n",
      "Y 875 321 921 424 0\n",
      "['Y', '875', '321', '921', '424', '0']\n",
      "A 927 325 996 420 0\n",
      "['A', '927', '325', '996', '420', '0']\n",
      "B 1001 337 1052 422 0\n",
      "['B', '1001', '337', '1052', '422', '0']\n",
      "A 1057 334 1125 422 0\n",
      "['A', '1057', '334', '1125', '422', '0']\n",
      "N 1130 337 1179 419 0\n",
      "['N', '1130', '337', '1179', '419', '0']\n",
      "A 1183 334 1240 417 0\n",
      "['A', '1183', '334', '1240', '417', '0']\n",
      "~ 0 0 1280 122 0\n",
      "['~', '0', '0', '1280', '122', '0']\n"
     ]
    },
    {
     "data": {
      "text/plain": [
       "-1"
      ]
     },
     "execution_count": 7,
     "metadata": {},
     "output_type": "execute_result"
    }
   ],
   "source": [
    "hImg,wImg,_ = img.shape\n",
    "boxes = pytesseract.image_to_boxes(img)\n",
    "for b in boxes.splitlines():\n",
    "    print(b)\n",
    "    b = b.split(' ')\n",
    "    print(b)\n",
    "    x,y,w,h = int(b[1]),int(b[2]),int(b[3]),int(b[3])\n",
    "    cv2.rectangle(img, (x,hImg-y), (w,hImg-h),(0, 0, 255),2)\n",
    "\n",
    "cv2.imshow('Result',img)\n",
    "cv2.waitKey(0)"
   ]
  },
  {
   "cell_type": "code",
   "execution_count": null,
   "id": "83a870f2",
   "metadata": {},
   "outputs": [],
   "source": []
  }
 ],
 "metadata": {
  "kernelspec": {
   "display_name": "Python 3 (ipykernel)",
   "language": "python",
   "name": "python3"
  },
  "language_info": {
   "codemirror_mode": {
    "name": "ipython",
    "version": 3
   },
   "file_extension": ".py",
   "mimetype": "text/x-python",
   "name": "python",
   "nbconvert_exporter": "python",
   "pygments_lexer": "ipython3",
   "version": "3.10.9"
  }
 },
 "nbformat": 4,
 "nbformat_minor": 5
}
